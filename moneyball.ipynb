{
 "cells": [
  {
   "cell_type": "code",
   "execution_count": 231,
   "metadata": {
    "collapsed": true
   },
   "outputs": [],
   "source": [
    "import pandas as pd\n",
    "from pandas import DataFrame, Series\n",
    "import numpy as np\n",
    "import datetime\n",
    "import matplotlib.pyplot as plt\n",
    "%matplotlib inline"
   ]
  },
  {
   "cell_type": "markdown",
   "metadata": {},
   "source": [
    "#### Reading .csv files to analize data"
   ]
  },
  {
   "cell_type": "code",
   "execution_count": 232,
   "metadata": {
    "collapsed": false
   },
   "outputs": [],
   "source": [
    "master_data = pd.read_csv('data/master.csv', index_col = 'playerID', usecols = [0, 13, 14])\n"
   ]
  },
  {
   "cell_type": "code",
   "execution_count": 233,
   "metadata": {
    "collapsed": false
   },
   "outputs": [],
   "source": [
    "salary_data = pd.read_csv('data/salaries.csv', index_col = 'playerID', usecols = [3, 4])\n"
   ]
  },
  {
   "cell_type": "code",
   "execution_count": 256,
   "metadata": {
    "collapsed": false
   },
   "outputs": [],
   "source": [
    "batting_data = pd.read_csv('data/batting.csv', index_col = 'playerID', usecols = [0, 1, 5, 6, 8, 15, 18, 20])"
   ]
  },
  {
   "cell_type": "code",
   "execution_count": 235,
   "metadata": {
    "collapsed": true
   },
   "outputs": [],
   "source": [
    "batting_no_nan = batting_data.fillna(0)\n"
   ]
  },
  {
   "cell_type": "code",
   "execution_count": 236,
   "metadata": {
    "collapsed": true
   },
   "outputs": [],
   "source": [
    "fielding_data = pd.read_csv('data/fielding.csv', index_col = 'playerID', usecols = [0, 5])\n"
   ]
  },
  {
   "cell_type": "code",
   "execution_count": 237,
   "metadata": {
    "collapsed": true
   },
   "outputs": [],
   "source": [
    "name_position = master_data.merge(fielding_data, left_index=True, right_index=True)\n"
   ]
  },
  {
   "cell_type": "code",
   "execution_count": 238,
   "metadata": {
    "collapsed": true
   },
   "outputs": [],
   "source": [
    "name_position_salary = name_position.merge(salary_data, left_index=True, right_index=True)\n"
   ]
  },
  {
   "cell_type": "code",
   "execution_count": 239,
   "metadata": {
    "collapsed": false
   },
   "outputs": [],
   "source": [
    "total_info = name_position_salary.merge(batting_no_nan, left_index=True, right_index=True)\n"
   ]
  },
  {
   "cell_type": "markdown",
   "metadata": {},
   "source": [
    "### OBP = (H + BB + HBP) / (AB + BB + HBP + SF)\n",
    "\n",
    "H - Hits;    BB - Base on Balls;    HBP - Hit by Pitch;    SF - Sacrifice flies"
   ]
  },
  {
   "cell_type": "code",
   "execution_count": 240,
   "metadata": {
    "collapsed": false
   },
   "outputs": [
    {
     "data": {
      "text/html": [
       "<div>\n",
       "<table border=\"1\" class=\"dataframe\">\n",
       "  <thead>\n",
       "    <tr style=\"text-align: right;\">\n",
       "      <th></th>\n",
       "      <th>nameFirst</th>\n",
       "      <th>nameLast</th>\n",
       "      <th>POS</th>\n",
       "      <th>salary</th>\n",
       "      <th>yearID</th>\n",
       "      <th>G</th>\n",
       "      <th>AB</th>\n",
       "      <th>H</th>\n",
       "      <th>BB</th>\n",
       "      <th>HBP</th>\n",
       "      <th>SF</th>\n",
       "      <th>OBP</th>\n",
       "    </tr>\n",
       "    <tr>\n",
       "      <th>playerID</th>\n",
       "      <th></th>\n",
       "      <th></th>\n",
       "      <th></th>\n",
       "      <th></th>\n",
       "      <th></th>\n",
       "      <th></th>\n",
       "      <th></th>\n",
       "      <th></th>\n",
       "      <th></th>\n",
       "      <th></th>\n",
       "      <th></th>\n",
       "      <th></th>\n",
       "    </tr>\n",
       "  </thead>\n",
       "  <tbody>\n",
       "    <tr>\n",
       "      <th>aardsda01</th>\n",
       "      <td>David</td>\n",
       "      <td>Aardsma</td>\n",
       "      <td>P</td>\n",
       "      <td>300000</td>\n",
       "      <td>2004</td>\n",
       "      <td>11</td>\n",
       "      <td>0.0</td>\n",
       "      <td>0.0</td>\n",
       "      <td>0.0</td>\n",
       "      <td>0.0</td>\n",
       "      <td>0.0</td>\n",
       "      <td>NaN</td>\n",
       "    </tr>\n",
       "    <tr>\n",
       "      <th>aardsda01</th>\n",
       "      <td>David</td>\n",
       "      <td>Aardsma</td>\n",
       "      <td>P</td>\n",
       "      <td>300000</td>\n",
       "      <td>2006</td>\n",
       "      <td>45</td>\n",
       "      <td>2.0</td>\n",
       "      <td>0.0</td>\n",
       "      <td>0.0</td>\n",
       "      <td>0.0</td>\n",
       "      <td>0.0</td>\n",
       "      <td>0.0</td>\n",
       "    </tr>\n",
       "    <tr>\n",
       "      <th>aardsda01</th>\n",
       "      <td>David</td>\n",
       "      <td>Aardsma</td>\n",
       "      <td>P</td>\n",
       "      <td>300000</td>\n",
       "      <td>2007</td>\n",
       "      <td>25</td>\n",
       "      <td>0.0</td>\n",
       "      <td>0.0</td>\n",
       "      <td>0.0</td>\n",
       "      <td>0.0</td>\n",
       "      <td>0.0</td>\n",
       "      <td>NaN</td>\n",
       "    </tr>\n",
       "    <tr>\n",
       "      <th>aardsda01</th>\n",
       "      <td>David</td>\n",
       "      <td>Aardsma</td>\n",
       "      <td>P</td>\n",
       "      <td>300000</td>\n",
       "      <td>2008</td>\n",
       "      <td>47</td>\n",
       "      <td>1.0</td>\n",
       "      <td>0.0</td>\n",
       "      <td>0.0</td>\n",
       "      <td>0.0</td>\n",
       "      <td>0.0</td>\n",
       "      <td>0.0</td>\n",
       "    </tr>\n",
       "    <tr>\n",
       "      <th>aardsda01</th>\n",
       "      <td>David</td>\n",
       "      <td>Aardsma</td>\n",
       "      <td>P</td>\n",
       "      <td>300000</td>\n",
       "      <td>2009</td>\n",
       "      <td>73</td>\n",
       "      <td>0.0</td>\n",
       "      <td>0.0</td>\n",
       "      <td>0.0</td>\n",
       "      <td>0.0</td>\n",
       "      <td>0.0</td>\n",
       "      <td>NaN</td>\n",
       "    </tr>\n",
       "  </tbody>\n",
       "</table>\n",
       "</div>"
      ],
      "text/plain": [
       "          nameFirst nameLast POS  salary  yearID   G   AB    H   BB  HBP   SF  \\\n",
       "playerID                                                                        \n",
       "aardsda01     David  Aardsma   P  300000    2004  11  0.0  0.0  0.0  0.0  0.0   \n",
       "aardsda01     David  Aardsma   P  300000    2006  45  2.0  0.0  0.0  0.0  0.0   \n",
       "aardsda01     David  Aardsma   P  300000    2007  25  0.0  0.0  0.0  0.0  0.0   \n",
       "aardsda01     David  Aardsma   P  300000    2008  47  1.0  0.0  0.0  0.0  0.0   \n",
       "aardsda01     David  Aardsma   P  300000    2009  73  0.0  0.0  0.0  0.0  0.0   \n",
       "\n",
       "           OBP  \n",
       "playerID        \n",
       "aardsda01  NaN  \n",
       "aardsda01  0.0  \n",
       "aardsda01  NaN  \n",
       "aardsda01  0.0  \n",
       "aardsda01  NaN  "
      ]
     },
     "execution_count": 240,
     "metadata": {},
     "output_type": "execute_result"
    }
   ],
   "source": [
    "total_info['OBP'] = (total_info['H']+ total_info['BB']+ total_info['HBP']) / (total_info['AB']+ total_info['BB']+ total_info['HBP'] + total_info['SF'])\n",
    "total_info.head()"
   ]
  },
  {
   "cell_type": "markdown",
   "metadata": {},
   "source": [
    "### Filtering DataFrame \n",
    "For the data analysis there's no need to have players with no salary and players whose OBP is either 1 or 0."
   ]
  },
  {
   "cell_type": "code",
   "execution_count": 241,
   "metadata": {
    "collapsed": false
   },
   "outputs": [],
   "source": [
    "total_info = total_info[total_info['OBP'] != 0]"
   ]
  },
  {
   "cell_type": "code",
   "execution_count": 242,
   "metadata": {
    "collapsed": true
   },
   "outputs": [],
   "source": [
    "total_info = total_info[total_info['OBP'] != 1]"
   ]
  },
  {
   "cell_type": "code",
   "execution_count": 243,
   "metadata": {
    "collapsed": true
   },
   "outputs": [],
   "source": [
    "total_info = total_info[total_info['salary'] != 0]\n"
   ]
  },
  {
   "cell_type": "code",
   "execution_count": 244,
   "metadata": {
    "collapsed": true
   },
   "outputs": [],
   "source": [
    "total_info = total_info.dropna()\n"
   ]
  },
  {
   "cell_type": "markdown",
   "metadata": {},
   "source": [
    "##### We will consider players that played after 2014"
   ]
  },
  {
   "cell_type": "code",
   "execution_count": 245,
   "metadata": {
    "collapsed": false
   },
   "outputs": [],
   "source": [
    "total_info = total_info.query('yearID>2014')"
   ]
  },
  {
   "cell_type": "code",
   "execution_count": 246,
   "metadata": {
    "collapsed": true
   },
   "outputs": [],
   "source": [
    "#total_info = total_info.sort(['OBP'], ascending = False)\n",
    "total_info = total_info.sort_values(by = 'OBP', ascending = False)\n"
   ]
  },
  {
   "cell_type": "markdown",
   "metadata": {},
   "source": [
    "#### The roster doesn't include Designated Hitter (DH) and Outfielder (OF) positions"
   ]
  },
  {
   "cell_type": "code",
   "execution_count": 247,
   "metadata": {
    "collapsed": true
   },
   "outputs": [],
   "source": [
    "total_info = total_info[total_info['POS'] != 'DH']\n",
    "total_info = total_info[total_info['POS'] != 'OF']\n"
   ]
  },
  {
   "cell_type": "code",
   "execution_count": 248,
   "metadata": {
    "collapsed": false
   },
   "outputs": [],
   "source": [
    "total_info = total_info.drop_duplicates()"
   ]
  },
  {
   "cell_type": "code",
   "execution_count": 249,
   "metadata": {
    "collapsed": false
   },
   "outputs": [
    {
     "data": {
      "text/html": [
       "<div>\n",
       "<table border=\"1\" class=\"dataframe\">\n",
       "  <thead>\n",
       "    <tr style=\"text-align: right;\">\n",
       "      <th></th>\n",
       "      <th>nameFirst</th>\n",
       "      <th>nameLast</th>\n",
       "      <th>POS</th>\n",
       "      <th>salary</th>\n",
       "      <th>yearID</th>\n",
       "      <th>G</th>\n",
       "      <th>AB</th>\n",
       "      <th>H</th>\n",
       "      <th>BB</th>\n",
       "      <th>HBP</th>\n",
       "      <th>SF</th>\n",
       "      <th>OBP</th>\n",
       "      <th>OBP by salary</th>\n",
       "    </tr>\n",
       "    <tr>\n",
       "      <th>playerID</th>\n",
       "      <th></th>\n",
       "      <th></th>\n",
       "      <th></th>\n",
       "      <th></th>\n",
       "      <th></th>\n",
       "      <th></th>\n",
       "      <th></th>\n",
       "      <th></th>\n",
       "      <th></th>\n",
       "      <th></th>\n",
       "      <th></th>\n",
       "      <th></th>\n",
       "      <th></th>\n",
       "    </tr>\n",
       "  </thead>\n",
       "  <tbody>\n",
       "    <tr>\n",
       "      <th>burriem01</th>\n",
       "      <td>Emmanuel</td>\n",
       "      <td>Burriss</td>\n",
       "      <td>RF</td>\n",
       "      <td>410000</td>\n",
       "      <td>2015</td>\n",
       "      <td>5</td>\n",
       "      <td>3.0</td>\n",
       "      <td>2.0</td>\n",
       "      <td>2.0</td>\n",
       "      <td>0.0</td>\n",
       "      <td>0.0</td>\n",
       "      <td>0.8</td>\n",
       "      <td>0.000002</td>\n",
       "    </tr>\n",
       "    <tr>\n",
       "      <th>burriem01</th>\n",
       "      <td>Emmanuel</td>\n",
       "      <td>Burriss</td>\n",
       "      <td>LF</td>\n",
       "      <td>404000</td>\n",
       "      <td>2015</td>\n",
       "      <td>5</td>\n",
       "      <td>3.0</td>\n",
       "      <td>2.0</td>\n",
       "      <td>2.0</td>\n",
       "      <td>0.0</td>\n",
       "      <td>0.0</td>\n",
       "      <td>0.8</td>\n",
       "      <td>0.000002</td>\n",
       "    </tr>\n",
       "    <tr>\n",
       "      <th>burriem01</th>\n",
       "      <td>Emmanuel</td>\n",
       "      <td>Burriss</td>\n",
       "      <td>RF</td>\n",
       "      <td>625000</td>\n",
       "      <td>2015</td>\n",
       "      <td>5</td>\n",
       "      <td>3.0</td>\n",
       "      <td>2.0</td>\n",
       "      <td>2.0</td>\n",
       "      <td>0.0</td>\n",
       "      <td>0.0</td>\n",
       "      <td>0.8</td>\n",
       "      <td>0.000001</td>\n",
       "    </tr>\n",
       "    <tr>\n",
       "      <th>burriem01</th>\n",
       "      <td>Emmanuel</td>\n",
       "      <td>Burriss</td>\n",
       "      <td>RF</td>\n",
       "      <td>404000</td>\n",
       "      <td>2015</td>\n",
       "      <td>5</td>\n",
       "      <td>3.0</td>\n",
       "      <td>2.0</td>\n",
       "      <td>2.0</td>\n",
       "      <td>0.0</td>\n",
       "      <td>0.0</td>\n",
       "      <td>0.8</td>\n",
       "      <td>0.000002</td>\n",
       "    </tr>\n",
       "    <tr>\n",
       "      <th>burriem01</th>\n",
       "      <td>Emmanuel</td>\n",
       "      <td>Burriss</td>\n",
       "      <td>3B</td>\n",
       "      <td>625000</td>\n",
       "      <td>2015</td>\n",
       "      <td>5</td>\n",
       "      <td>3.0</td>\n",
       "      <td>2.0</td>\n",
       "      <td>2.0</td>\n",
       "      <td>0.0</td>\n",
       "      <td>0.0</td>\n",
       "      <td>0.8</td>\n",
       "      <td>0.000001</td>\n",
       "    </tr>\n",
       "  </tbody>\n",
       "</table>\n",
       "</div>"
      ],
      "text/plain": [
       "          nameFirst nameLast POS  salary  yearID  G   AB    H   BB  HBP   SF  \\\n",
       "playerID                                                                       \n",
       "burriem01  Emmanuel  Burriss  RF  410000    2015  5  3.0  2.0  2.0  0.0  0.0   \n",
       "burriem01  Emmanuel  Burriss  LF  404000    2015  5  3.0  2.0  2.0  0.0  0.0   \n",
       "burriem01  Emmanuel  Burriss  RF  625000    2015  5  3.0  2.0  2.0  0.0  0.0   \n",
       "burriem01  Emmanuel  Burriss  RF  404000    2015  5  3.0  2.0  2.0  0.0  0.0   \n",
       "burriem01  Emmanuel  Burriss  3B  625000    2015  5  3.0  2.0  2.0  0.0  0.0   \n",
       "\n",
       "           OBP  OBP by salary  \n",
       "playerID                       \n",
       "burriem01  0.8       0.000002  \n",
       "burriem01  0.8       0.000002  \n",
       "burriem01  0.8       0.000001  \n",
       "burriem01  0.8       0.000002  \n",
       "burriem01  0.8       0.000001  "
      ]
     },
     "execution_count": 249,
     "metadata": {},
     "output_type": "execute_result"
    }
   ],
   "source": [
    "total_info['OBP by salary'] = total_info['OBP'] / total_info['salary']\n",
    "total_info.head()"
   ]
  },
  {
   "cell_type": "code",
   "execution_count": 250,
   "metadata": {
    "collapsed": false
   },
   "outputs": [],
   "source": [
    "total_info = total_info.sort_values(by = 'OBP by salary', ascending = False)"
   ]
  },
  {
   "cell_type": "code",
   "execution_count": 251,
   "metadata": {
    "collapsed": false
   },
   "outputs": [],
   "source": [
    "total_info = total_info.drop_duplicates('salary')"
   ]
  },
  {
   "cell_type": "code",
   "execution_count": 267,
   "metadata": {
    "collapsed": false
   },
   "outputs": [],
   "source": [
    "def roster(total_info):\n",
    "    roster_list = []   \n",
    "    pos_list = ['1B', '2B', '3B', 'RF', 'LF', 'CF', 'P', 'C','SS']\n",
    "    for pos in pos_list:\n",
    "        player_position = total_info[total_info['POS'] == pos]\n",
    "        roster_list.append(player_position[:1])\n",
    "    return roster_list"
   ]
  },
  {
   "cell_type": "code",
   "execution_count": 268,
   "metadata": {
    "collapsed": false
   },
   "outputs": [
    {
     "data": {
      "text/html": [
       "<div>\n",
       "<table border=\"1\" class=\"dataframe\">\n",
       "  <thead>\n",
       "    <tr style=\"text-align: right;\">\n",
       "      <th></th>\n",
       "      <th>nameFirst</th>\n",
       "      <th>nameLast</th>\n",
       "      <th>POS</th>\n",
       "      <th>salary</th>\n",
       "      <th>yearID</th>\n",
       "      <th>G</th>\n",
       "      <th>AB</th>\n",
       "      <th>H</th>\n",
       "      <th>BB</th>\n",
       "      <th>HBP</th>\n",
       "      <th>SF</th>\n",
       "      <th>OBP</th>\n",
       "      <th>OBP by salary</th>\n",
       "    </tr>\n",
       "    <tr>\n",
       "      <th>playerID</th>\n",
       "      <th></th>\n",
       "      <th></th>\n",
       "      <th></th>\n",
       "      <th></th>\n",
       "      <th></th>\n",
       "      <th></th>\n",
       "      <th></th>\n",
       "      <th></th>\n",
       "      <th></th>\n",
       "      <th></th>\n",
       "      <th></th>\n",
       "      <th></th>\n",
       "      <th></th>\n",
       "    </tr>\n",
       "  </thead>\n",
       "  <tbody>\n",
       "    <tr>\n",
       "      <th>ortizda01</th>\n",
       "      <td>David</td>\n",
       "      <td>Ortiz</td>\n",
       "      <td>1B</td>\n",
       "      <td>170000</td>\n",
       "      <td>2015</td>\n",
       "      <td>146</td>\n",
       "      <td>528.0</td>\n",
       "      <td>144.0</td>\n",
       "      <td>77.0</td>\n",
       "      <td>0.0</td>\n",
       "      <td>9.0</td>\n",
       "      <td>0.359935</td>\n",
       "      <td>2.117264e-06</td>\n",
       "    </tr>\n",
       "    <tr>\n",
       "      <th>burriem01</th>\n",
       "      <td>Emmanuel</td>\n",
       "      <td>Burriss</td>\n",
       "      <td>2B</td>\n",
       "      <td>625000</td>\n",
       "      <td>2015</td>\n",
       "      <td>5</td>\n",
       "      <td>3.0</td>\n",
       "      <td>2.0</td>\n",
       "      <td>2.0</td>\n",
       "      <td>0.0</td>\n",
       "      <td>0.0</td>\n",
       "      <td>0.800000</td>\n",
       "      <td>1.280000e-06</td>\n",
       "    </tr>\n",
       "    <tr>\n",
       "      <th>cabremi01</th>\n",
       "      <td>Miguel</td>\n",
       "      <td>Cabrera</td>\n",
       "      <td>3B</td>\n",
       "      <td>165574</td>\n",
       "      <td>2015</td>\n",
       "      <td>119</td>\n",
       "      <td>429.0</td>\n",
       "      <td>145.0</td>\n",
       "      <td>77.0</td>\n",
       "      <td>3.0</td>\n",
       "      <td>2.0</td>\n",
       "      <td>0.440313</td>\n",
       "      <td>2.659313e-06</td>\n",
       "    </tr>\n",
       "    <tr>\n",
       "      <th>burriem01</th>\n",
       "      <td>Emmanuel</td>\n",
       "      <td>Burriss</td>\n",
       "      <td>RF</td>\n",
       "      <td>404000</td>\n",
       "      <td>2015</td>\n",
       "      <td>5</td>\n",
       "      <td>3.0</td>\n",
       "      <td>2.0</td>\n",
       "      <td>2.0</td>\n",
       "      <td>0.0</td>\n",
       "      <td>0.0</td>\n",
       "      <td>0.800000</td>\n",
       "      <td>1.980198e-06</td>\n",
       "    </tr>\n",
       "    <tr>\n",
       "      <th>beltrca01</th>\n",
       "      <td>Carlos</td>\n",
       "      <td>Beltran</td>\n",
       "      <td>LF</td>\n",
       "      <td>200000</td>\n",
       "      <td>2015</td>\n",
       "      <td>133</td>\n",
       "      <td>478.0</td>\n",
       "      <td>132.0</td>\n",
       "      <td>45.0</td>\n",
       "      <td>2.0</td>\n",
       "      <td>6.0</td>\n",
       "      <td>0.337100</td>\n",
       "      <td>1.685499e-06</td>\n",
       "    </tr>\n",
       "    <tr>\n",
       "      <th>sizemgr01</th>\n",
       "      <td>Grady</td>\n",
       "      <td>Sizemore</td>\n",
       "      <td>CF</td>\n",
       "      <td>318300</td>\n",
       "      <td>2015</td>\n",
       "      <td>58</td>\n",
       "      <td>175.0</td>\n",
       "      <td>45.0</td>\n",
       "      <td>14.0</td>\n",
       "      <td>2.0</td>\n",
       "      <td>1.0</td>\n",
       "      <td>0.317708</td>\n",
       "      <td>9.981412e-07</td>\n",
       "    </tr>\n",
       "    <tr>\n",
       "      <th>masteju01</th>\n",
       "      <td>Justin</td>\n",
       "      <td>Masterson</td>\n",
       "      <td>P</td>\n",
       "      <td>415500</td>\n",
       "      <td>2015</td>\n",
       "      <td>18</td>\n",
       "      <td>3.0</td>\n",
       "      <td>2.0</td>\n",
       "      <td>0.0</td>\n",
       "      <td>0.0</td>\n",
       "      <td>0.0</td>\n",
       "      <td>0.666667</td>\n",
       "      <td>1.604493e-06</td>\n",
       "    </tr>\n",
       "    <tr>\n",
       "      <th>pierzaj01</th>\n",
       "      <td>A. J.</td>\n",
       "      <td>Pierzynski</td>\n",
       "      <td>C</td>\n",
       "      <td>210000</td>\n",
       "      <td>2015</td>\n",
       "      <td>113</td>\n",
       "      <td>407.0</td>\n",
       "      <td>122.0</td>\n",
       "      <td>19.0</td>\n",
       "      <td>7.0</td>\n",
       "      <td>3.0</td>\n",
       "      <td>0.339450</td>\n",
       "      <td>1.616426e-06</td>\n",
       "    </tr>\n",
       "    <tr>\n",
       "      <th>wrighda03</th>\n",
       "      <td>David</td>\n",
       "      <td>Wright</td>\n",
       "      <td>SS</td>\n",
       "      <td>322500</td>\n",
       "      <td>2015</td>\n",
       "      <td>38</td>\n",
       "      <td>152.0</td>\n",
       "      <td>44.0</td>\n",
       "      <td>22.0</td>\n",
       "      <td>0.0</td>\n",
       "      <td>0.0</td>\n",
       "      <td>0.379310</td>\n",
       "      <td>1.176156e-06</td>\n",
       "    </tr>\n",
       "  </tbody>\n",
       "</table>\n",
       "</div>"
      ],
      "text/plain": [
       "          nameFirst    nameLast POS  salary  yearID    G     AB      H    BB  \\\n",
       "playerID                                                                       \n",
       "ortizda01     David       Ortiz  1B  170000    2015  146  528.0  144.0  77.0   \n",
       "burriem01  Emmanuel     Burriss  2B  625000    2015    5    3.0    2.0   2.0   \n",
       "cabremi01    Miguel     Cabrera  3B  165574    2015  119  429.0  145.0  77.0   \n",
       "burriem01  Emmanuel     Burriss  RF  404000    2015    5    3.0    2.0   2.0   \n",
       "beltrca01    Carlos     Beltran  LF  200000    2015  133  478.0  132.0  45.0   \n",
       "sizemgr01     Grady    Sizemore  CF  318300    2015   58  175.0   45.0  14.0   \n",
       "masteju01    Justin   Masterson   P  415500    2015   18    3.0    2.0   0.0   \n",
       "pierzaj01     A. J.  Pierzynski   C  210000    2015  113  407.0  122.0  19.0   \n",
       "wrighda03     David      Wright  SS  322500    2015   38  152.0   44.0  22.0   \n",
       "\n",
       "           HBP   SF       OBP  OBP by salary  \n",
       "playerID                                      \n",
       "ortizda01  0.0  9.0  0.359935   2.117264e-06  \n",
       "burriem01  0.0  0.0  0.800000   1.280000e-06  \n",
       "cabremi01  3.0  2.0  0.440313   2.659313e-06  \n",
       "burriem01  0.0  0.0  0.800000   1.980198e-06  \n",
       "beltrca01  2.0  6.0  0.337100   1.685499e-06  \n",
       "sizemgr01  2.0  1.0  0.317708   9.981412e-07  \n",
       "masteju01  0.0  0.0  0.666667   1.604493e-06  \n",
       "pierzaj01  7.0  3.0  0.339450   1.616426e-06  \n",
       "wrighda03  0.0  0.0  0.379310   1.176156e-06  "
      ]
     },
     "execution_count": 268,
     "metadata": {},
     "output_type": "execute_result"
    }
   ],
   "source": [
    "player_list = roster(total_info)\n",
    "final_roster = pd.concat(player_list)\n",
    "final_roster"
   ]
  },
  {
   "cell_type": "markdown",
   "metadata": {},
   "source": [
    "#### Below is the minimum salary and maximum OBP for each position"
   ]
  },
  {
   "cell_type": "code",
   "execution_count": 269,
   "metadata": {
    "collapsed": false
   },
   "outputs": [
    {
     "data": {
      "text/plain": [
       "POS\n",
       "1B    170000\n",
       "2B    307500\n",
       "3B    165574\n",
       "C     210000\n",
       "CF    305000\n",
       "LF    200000\n",
       "P     150000\n",
       "RF    302500\n",
       "SS    300900\n",
       "Name: salary, dtype: int64"
      ]
     },
     "execution_count": 269,
     "metadata": {},
     "output_type": "execute_result"
    }
   ],
   "source": [
    "total_info.groupby('POS').salary.min()"
   ]
  },
  {
   "cell_type": "code",
   "execution_count": 270,
   "metadata": {
    "collapsed": false
   },
   "outputs": [
    {
     "data": {
      "text/plain": [
       "POS\n",
       "1B    0.800000\n",
       "2B    0.800000\n",
       "3B    0.440313\n",
       "C     0.444444\n",
       "CF    0.401460\n",
       "LF    0.460245\n",
       "P     0.666667\n",
       "RF    0.800000\n",
       "SS    0.390244\n",
       "Name: OBP, dtype: float64"
      ]
     },
     "execution_count": 270,
     "metadata": {},
     "output_type": "execute_result"
    }
   ],
   "source": [
    "total_info.groupby('POS').OBP.max()"
   ]
  },
  {
   "cell_type": "code",
   "execution_count": null,
   "metadata": {
    "collapsed": true
   },
   "outputs": [],
   "source": []
  }
 ],
 "metadata": {
  "kernelspec": {
   "display_name": "Python 3",
   "language": "python",
   "name": "python3"
  },
  "language_info": {
   "codemirror_mode": {
    "name": "ipython",
    "version": 3
   },
   "file_extension": ".py",
   "mimetype": "text/x-python",
   "name": "python",
   "nbconvert_exporter": "python",
   "pygments_lexer": "ipython3",
   "version": "3.5.1"
  }
 },
 "nbformat": 4,
 "nbformat_minor": 0
}
