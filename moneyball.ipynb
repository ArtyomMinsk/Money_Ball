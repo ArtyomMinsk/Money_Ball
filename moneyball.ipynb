{
 "cells": [
  {
   "cell_type": "code",
   "execution_count": null,
   "metadata": {
    "collapsed": true
   },
   "outputs": [],
   "source": [
    "import pandas as pd\n",
    "from pandas import DataFrame, Series"
   ]
  },
  {
   "cell_type": "markdown",
   "metadata": {},
   "source": [
    "#### Reading .csv files to analize data"
   ]
  },
  {
   "cell_type": "code",
   "execution_count": null,
   "metadata": {
    "collapsed": false
   },
   "outputs": [],
   "source": [
    "master_data = pd.read_csv('data/master.csv', index_col = 'playerID', usecols = [0, 13, 14])\n",
    "master_data.head()"
   ]
  },
  {
   "cell_type": "code",
   "execution_count": null,
   "metadata": {
    "collapsed": false
   },
   "outputs": [],
   "source": [
    "salary_data = pd.read_csv('data/salaries.csv', index_col = 'playerID', usecols = [3, 4])\n",
    "salary_data.head()"
   ]
  },
  {
   "cell_type": "code",
   "execution_count": null,
   "metadata": {
    "collapsed": false
   },
   "outputs": [],
   "source": [
    "batting_data = pd.read_csv('data/batting.csv', index_col = 'playerID', usecols = [0, 1, 5, 6, 8, 15, 18, 20])\n",
    "batting_data.head()"
   ]
  },
  {
   "cell_type": "code",
   "execution_count": null,
   "metadata": {
    "collapsed": false
   },
   "outputs": [],
   "source": [
    "batting_no_nan = batting_data.fillna(0)\n",
    "batting_no_nan.head()"
   ]
  },
  {
   "cell_type": "code",
   "execution_count": null,
   "metadata": {
    "collapsed": false
   },
   "outputs": [],
   "source": [
    "fielding_data = pd.read_csv('data/fielding.csv', index_col = 'playerID', usecols = [0, 5])\n",
    "fielding_data.head()"
   ]
  },
  {
   "cell_type": "code",
   "execution_count": null,
   "metadata": {
    "collapsed": false
   },
   "outputs": [],
   "source": [
    "name_position = master_data.merge(fielding_data, left_index=True, right_index=True)"
   ]
  },
  {
   "cell_type": "code",
   "execution_count": null,
   "metadata": {
    "collapsed": true
   },
   "outputs": [],
   "source": [
    "name_position_salary = name_position.merge(salary_data, left_index=True, right_index=True)\n"
   ]
  },
  {
   "cell_type": "code",
   "execution_count": null,
   "metadata": {
    "collapsed": false
   },
   "outputs": [],
   "source": [
    "total_info = name_position_salary.merge(batting_no_nan, left_index=True, right_index=True)\n",
    "total_info.head()"
   ]
  },
  {
   "cell_type": "markdown",
   "metadata": {},
   "source": [
    "### OBP = (H + BB + HBP) / (AB + BB + HBP + SF)\n",
    "\n",
    "H - Hits;    BB - Base on Balls;    HBP - Hit by Pitch;    SF - Sacrifice flies"
   ]
  },
  {
   "cell_type": "code",
   "execution_count": null,
   "metadata": {
    "collapsed": false
   },
   "outputs": [],
   "source": [
    "total_info['OBP'] = (total_info['H']+ total_info['BB']+ total_info['HBP']) / (total_info['AB']+ total_info['BB']+ total_info['HBP'] + total_info['SF'])\n",
    "total_info.head()"
   ]
  },
  {
   "cell_type": "markdown",
   "metadata": {},
   "source": [
    "### Filtering DataFrame \n",
    "For the data analysis there's no need to have players with no salary and players whose OBP is either 1 or 0."
   ]
  },
  {
   "cell_type": "code",
   "execution_count": null,
   "metadata": {
    "collapsed": false
   },
   "outputs": [],
   "source": [
    "total_info = total_info[total_info['OBP'] != 0]\n",
    "total_info.head()"
   ]
  },
  {
   "cell_type": "code",
   "execution_count": null,
   "metadata": {
    "collapsed": false
   },
   "outputs": [],
   "source": [
    "total_info = total_info[total_info['OBP'] != 1]\n",
    "total_info.head()"
   ]
  },
  {
   "cell_type": "code",
   "execution_count": null,
   "metadata": {
    "collapsed": false
   },
   "outputs": [],
   "source": [
    "total_info = total_info[total_info['salary'] != 0]\n",
    "total_info.head()"
   ]
  },
  {
   "cell_type": "code",
   "execution_count": null,
   "metadata": {
    "collapsed": false
   },
   "outputs": [],
   "source": [
    "total_info = total_info.dropna()\n",
    "total_info.head()"
   ]
  },
  {
   "cell_type": "markdown",
   "metadata": {},
   "source": [
    "##### We will consider players that played after 2014"
   ]
  },
  {
   "cell_type": "code",
   "execution_count": null,
   "metadata": {
    "collapsed": false
   },
   "outputs": [],
   "source": [
    "total_info = total_info.query('yearID>2014')\n",
    "total_info.head()"
   ]
  },
  {
   "cell_type": "code",
   "execution_count": null,
   "metadata": {
    "collapsed": false
   },
   "outputs": [],
   "source": [
    "#total_info = total_info.sort(['OBP'], ascending = False)\n",
    "total_info = total_info.sort_values(by = 'OBP', ascending = False)\n",
    "total_info.head()"
   ]
  },
  {
   "cell_type": "markdown",
   "metadata": {},
   "source": [
    "#### The roster doesn't include Designated Hitter (DH) and Outfielder (OF) positions"
   ]
  },
  {
   "cell_type": "code",
   "execution_count": null,
   "metadata": {
    "collapsed": false
   },
   "outputs": [],
   "source": [
    "total_info = total_info[total_info['POS'] != 'DH']\n",
    "total_info = total_info[total_info['POS'] != 'OF']\n",
    "total_info.head()"
   ]
  },
  {
   "cell_type": "code",
   "execution_count": null,
   "metadata": {
    "collapsed": false
   },
   "outputs": [],
   "source": [
    "total_info = total_info.drop_duplicates()\n",
    "total_info.head()"
   ]
  },
  {
   "cell_type": "code",
   "execution_count": null,
   "metadata": {
    "collapsed": false
   },
   "outputs": [],
   "source": [
    "total_info['OBP by salary'] = total_info['OBP'] / total_info['salary']\n",
    "total_info.head()"
   ]
  },
  {
   "cell_type": "code",
   "execution_count": null,
   "metadata": {
    "collapsed": false
   },
   "outputs": [],
   "source": [
    "total_info = total_info.sort_values(by = 'OBP by salary', ascending = False)\n",
    "total_info.head()"
   ]
  },
  {
   "cell_type": "code",
   "execution_count": null,
   "metadata": {
    "collapsed": false
   },
   "outputs": [],
   "source": [
    "total_info = total_info.drop_duplicates('salary')\n",
    "total_info.head()"
   ]
  },
  {
   "cell_type": "code",
   "execution_count": null,
   "metadata": {
    "collapsed": false
   },
   "outputs": [],
   "source": [
    "def roster(total_info):\n",
    "    roster_list = []   \n",
    "    pos_list = ['1B', '2B', '3B', 'RF', 'LF', 'CF', 'P', 'C','SS']\n",
    "    for pos in pos_list:\n",
    "        player_position = total_info[total_info['POS'] == pos]\n",
    "        roster_list.append(player_position[:1])\n",
    "    return roster_list"
   ]
  },
  {
   "cell_type": "code",
   "execution_count": null,
   "metadata": {
    "collapsed": false
   },
   "outputs": [],
   "source": [
    "player_list = roster(total_info)\n",
    "final_roster = pd.concat(player_list)\n",
    "final_roster"
   ]
  },
  {
   "cell_type": "markdown",
   "metadata": {},
   "source": [
    "#### Below is the minimum salary and maximum OBP for each position"
   ]
  },
  {
   "cell_type": "code",
   "execution_count": null,
   "metadata": {
    "collapsed": false
   },
   "outputs": [],
   "source": [
    "total_info.groupby('POS').salary.min()"
   ]
  },
  {
   "cell_type": "code",
   "execution_count": null,
   "metadata": {
    "collapsed": false
   },
   "outputs": [],
   "source": [
    "total_info.groupby('POS').OBP.max()"
   ]
  },
  {
   "cell_type": "code",
   "execution_count": null,
   "metadata": {
    "collapsed": true
   },
   "outputs": [],
   "source": []
  }
 ],
 "metadata": {
  "kernelspec": {
   "display_name": "Python 3",
   "language": "python",
   "name": "python3"
  },
  "language_info": {
   "codemirror_mode": {
    "name": "ipython",
    "version": 3
   },
   "file_extension": ".py",
   "mimetype": "text/x-python",
   "name": "python",
   "nbconvert_exporter": "python",
   "pygments_lexer": "ipython3",
   "version": "3.5.1"
  }
 },
 "nbformat": 4,
 "nbformat_minor": 0
}
